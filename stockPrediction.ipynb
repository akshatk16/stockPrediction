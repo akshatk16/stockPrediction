{
  "nbformat": 4,
  "nbformat_minor": 0,
  "metadata": {
    "colab": {
      "name": "stockPrediction.ipynb",
      "provenance": [],
      "collapsed_sections": [],
      "authorship_tag": "ABX9TyMnErZot+CWBcJEjYcAwplD",
      "include_colab_link": true
    },
    "kernelspec": {
      "name": "python3",
      "display_name": "Python 3"
    }
  },
  "cells": [
    {
      "cell_type": "markdown",
      "metadata": {
        "id": "view-in-github",
        "colab_type": "text"
      },
      "source": [
        "<a href=\"https://colab.research.google.com/github/akshatk16/stockPrediction/blob/main/stockPrediction.ipynb\" target=\"_parent\"><img src=\"https://colab.research.google.com/assets/colab-badge.svg\" alt=\"Open In Colab\"/></a>"
      ]
    },
    {
      "cell_type": "code",
      "metadata": {
        "id": "agGmcGatHR4E"
      },
      "source": [
        "# predict stock prices using ML\n",
        "\n",
        "# import dependencies\n",
        "import quandl\n",
        "import numpy as np\n",
        "from math import ceil, floor\n",
        "from sklearn.model_selection import train_test_split\n",
        "from sklearn.linear_model import LinearRegression\n",
        "from sklearn.svm import SVR\n",
        "import matplotlib.pyplot as plt\n"
      ],
      "execution_count": 1,
      "outputs": []
    },
    {
      "cell_type": "code",
      "metadata": {
        "id": "CCVT5wKKIXNx",
        "colab": {
          "base_uri": "https://localhost:8080/"
        },
        "outputId": "99061488-6e37-48f1-f20e-f41660afe95d"
      },
      "source": [
        "# get stock data\n",
        "quandl.ApiConfig.api_key = \"F2p7bTsyUzsth72dKwdX\"\n",
        "\n",
        "# The WIKIP API was discotinued in 2018 and hence further data is not available\n",
        "df = quandl.get(\"WIKI/AAPL\")\n",
        "print(df.head())"
      ],
      "execution_count": 2,
      "outputs": [
        {
          "output_type": "stream",
          "text": [
            "             Open   High    Low  ...  Adj. Low  Adj. Close  Adj. Volume\n",
            "Date                             ...                                   \n",
            "1980-12-12  28.75  28.87  28.75  ...  0.422706    0.422706  117258400.0\n",
            "1980-12-15  27.38  27.38  27.25  ...  0.400652    0.400652   43971200.0\n",
            "1980-12-16  25.37  25.37  25.25  ...  0.371246    0.371246   26432000.0\n",
            "1980-12-17  25.87  26.00  25.87  ...  0.380362    0.380362   21610400.0\n",
            "1980-12-18  26.63  26.75  26.63  ...  0.391536    0.391536   18362400.0\n",
            "\n",
            "[5 rows x 12 columns]\n"
          ],
          "name": "stdout"
        }
      ]
    },
    {
      "cell_type": "code",
      "metadata": {
        "colab": {
          "base_uri": "https://localhost:8080/"
        },
        "id": "pnWrvV-NkU2d",
        "outputId": "809a5058-bac3-4be5-d10d-972044a988ea"
      },
      "source": [
        "# get only 'adjusted close'\n",
        "df = df[['Adj. Close']]\n",
        "print(df.head())"
      ],
      "execution_count": 3,
      "outputs": [
        {
          "output_type": "stream",
          "text": [
            "            Adj. Close\n",
            "Date                  \n",
            "1980-12-12    0.422706\n",
            "1980-12-15    0.400652\n",
            "1980-12-16    0.371246\n",
            "1980-12-17    0.380362\n",
            "1980-12-18    0.391536\n"
          ],
          "name": "stdout"
        }
      ]
    },
    {
      "cell_type": "code",
      "metadata": {
        "colab": {
          "base_uri": "https://localhost:8080/"
        },
        "id": "IQbp2NbDlBmd",
        "outputId": "982867a5-051a-403d-c53b-22be42e16da3"
      },
      "source": [
        "# how many days in future to predict(n)\n",
        "predict_for_days = 20\n",
        "\n",
        "# New column for dependent variables shifted n units up\n",
        "df['Prediction'] = df[['Adj. Close']].shift(-predict_for_days)\n",
        "print(df.tail())"
      ],
      "execution_count": 4,
      "outputs": [
        {
          "output_type": "stream",
          "text": [
            "            Adj. Close  Prediction\n",
            "Date                              \n",
            "2018-03-21     171.270         NaN\n",
            "2018-03-22     168.845         NaN\n",
            "2018-03-23     164.940         NaN\n",
            "2018-03-26     172.770         NaN\n",
            "2018-03-27     168.340         NaN\n"
          ],
          "name": "stdout"
        }
      ]
    },
    {
      "cell_type": "code",
      "metadata": {
        "colab": {
          "base_uri": "https://localhost:8080/"
        },
        "id": "_ODkNNAum8Xf",
        "outputId": "603d16ec-9a64-4adc-8765-842fe374b297"
      },
      "source": [
        "# independent data set (X)\n",
        "X = np.array(df.drop(['Prediction'], 1))\n",
        "# Remove last n rows\n",
        "X = X[:-predict_for_days]\n",
        "print(X)"
      ],
      "execution_count": 5,
      "outputs": [
        {
          "output_type": "stream",
          "text": [
            "[[  0.42270592]\n",
            " [  0.40065169]\n",
            " [  0.37124607]\n",
            " ...\n",
            " [175.555     ]\n",
            " [178.97      ]\n",
            " [178.39      ]]\n"
          ],
          "name": "stdout"
        }
      ]
    },
    {
      "cell_type": "code",
      "metadata": {
        "colab": {
          "base_uri": "https://localhost:8080/"
        },
        "id": "Z2l7omTXnSAE",
        "outputId": "082b109d-9d34-4753-99e8-8ccc9486b833"
      },
      "source": [
        "# dependent data set (y)\n",
        "y = np.array(df['Prediction'])\n",
        "y = y[:-predict_for_days]\n",
        "print(y)"
      ],
      "execution_count": 6,
      "outputs": [
        {
          "output_type": "stream",
          "text": [
            "[  0.44843584   0.45034721   0.45946295 ... 164.94       172.77\n",
            " 168.34      ]\n"
          ],
          "name": "stdout"
        }
      ]
    },
    {
      "cell_type": "code",
      "metadata": {
        "id": "1GYw6ZGsoKYo"
      },
      "source": [
        "# Split into train/test\n",
        "x_train, x_test, y_train, y_test = train_test_split(X, y, test_size=0.2)"
      ],
      "execution_count": 7,
      "outputs": []
    },
    {
      "cell_type": "code",
      "metadata": {
        "colab": {
          "base_uri": "https://localhost:8080/"
        },
        "id": "XTLhxT-LoWsN",
        "outputId": "7ba7dde8-8c38-4d3b-ecbe-8131c5b4f519"
      },
      "source": [
        "# Train using SVM regressor\n",
        "svr_rbf = SVR('rbf', gamma=0.1, C=1000)\n",
        "svr_rbf.fit(x_train, y_train)"
      ],
      "execution_count": 8,
      "outputs": [
        {
          "output_type": "execute_result",
          "data": {
            "text/plain": [
              "SVR(C=1000, cache_size=200, coef0=0.0, degree=3, epsilon=0.1, gamma=0.1,\n",
              "    kernel='rbf', max_iter=-1, shrinking=True, tol=0.001, verbose=False)"
            ]
          },
          "metadata": {
            "tags": []
          },
          "execution_count": 8
        }
      ]
    },
    {
      "cell_type": "code",
      "metadata": {
        "colab": {
          "base_uri": "https://localhost:8080/"
        },
        "id": "s7px0f1Vo6E3",
        "outputId": "15c8c57b-c393-4494-b084-d799bb11bf08"
      },
      "source": [
        "# Test the svm model\n",
        "svm_confidence = svr_rbf.score(x_test, y_test)\n",
        "print(svm_confidence)"
      ],
      "execution_count": 9,
      "outputs": [
        {
          "output_type": "stream",
          "text": [
            "0.9948523590129298\n"
          ],
          "name": "stdout"
        }
      ]
    },
    {
      "cell_type": "code",
      "metadata": {
        "colab": {
          "base_uri": "https://localhost:8080/"
        },
        "id": "3jTYbW-bpLs5",
        "outputId": "6a60c031-1db2-4a0d-fb12-7d44a0b58c76"
      },
      "source": [
        "# Linear Regression model\n",
        "lr = LinearRegression()\n",
        "lr.fit(x_train, y_train)"
      ],
      "execution_count": 10,
      "outputs": [
        {
          "output_type": "execute_result",
          "data": {
            "text/plain": [
              "LinearRegression(copy_X=True, fit_intercept=True, n_jobs=None, normalize=False)"
            ]
          },
          "metadata": {
            "tags": []
          },
          "execution_count": 10
        }
      ]
    },
    {
      "cell_type": "code",
      "metadata": {
        "colab": {
          "base_uri": "https://localhost:8080/"
        },
        "id": "6ZO9JOsmpX4n",
        "outputId": "7299ad79-dda7-4086-c2e4-2441fd6a17a9"
      },
      "source": [
        "# Test the lr model\n",
        "lr_confidence = lr.score(x_test, y_test)\n",
        "print(lr_confidence)"
      ],
      "execution_count": 11,
      "outputs": [
        {
          "output_type": "stream",
          "text": [
            "0.9942250476971105\n"
          ],
          "name": "stdout"
        }
      ]
    },
    {
      "cell_type": "code",
      "metadata": {
        "colab": {
          "base_uri": "https://localhost:8080/"
        },
        "id": "JEz1Os06plvF",
        "outputId": "06aa6c76-dab6-4f6f-ec2f-fff9ff7dc551"
      },
      "source": [
        "# last n rows from original dataset\n",
        "x_predict = np.array(df.drop(['Prediction'], 1))[-predict_for_days:]\n",
        "print(x_predict)"
      ],
      "execution_count": 12,
      "outputs": [
        {
          "output_type": "stream",
          "text": [
            "[[178.12 ]\n",
            " [175.   ]\n",
            " [176.21 ]\n",
            " [176.82 ]\n",
            " [176.67 ]\n",
            " [175.03 ]\n",
            " [176.94 ]\n",
            " [179.98 ]\n",
            " [181.72 ]\n",
            " [179.97 ]\n",
            " [178.44 ]\n",
            " [178.65 ]\n",
            " [178.02 ]\n",
            " [175.3  ]\n",
            " [175.24 ]\n",
            " [171.27 ]\n",
            " [168.845]\n",
            " [164.94 ]\n",
            " [172.77 ]\n",
            " [168.34 ]]\n"
          ],
          "name": "stdout"
        }
      ]
    },
    {
      "cell_type": "code",
      "metadata": {
        "colab": {
          "base_uri": "https://localhost:8080/"
        },
        "id": "mYe3PAaOp8ls",
        "outputId": "41b6c8e7-ba9e-4dfa-d2be-6b22bcd919b5"
      },
      "source": [
        "# predict for next n days using svm\n",
        "svr_prediction = svr_rbf.predict(x_predict)\n",
        "print('Using SVM: ', svr_prediction)\n",
        "\n",
        "# predict for next n days using LR\n",
        "lr_prediction = lr.predict(x_predict)\n",
        "print('Using LR: ', lr_prediction)"
      ],
      "execution_count": 13,
      "outputs": [
        {
          "output_type": "stream",
          "text": [
            "Using SVM:  [171.67555096 173.31196968 172.82827282 171.51025593 171.80472592\n",
            " 173.36458164 171.30889884 169.98733174 144.58792432 170.05862995\n",
            " 172.29215721 172.66006276 171.49767536 173.69279168 173.64379799\n",
            " 173.94014974 175.55752652 176.35547002 171.38951832 177.41074251]\n",
            "Using LR:  [180.66347028 177.50038375 178.72709359 179.34551756 179.19344609\n",
            " 177.53079804 179.46717473 182.54915649 184.31318552 182.53901839\n",
            " 180.98788942 181.20078947 180.56208931 177.80452668 177.74369809\n",
            " 173.71887323 171.2603845  167.30145727 175.23958792 170.74841055]\n"
          ],
          "name": "stdout"
        }
      ]
    },
    {
      "cell_type": "code",
      "metadata": {
        "colab": {
          "base_uri": "https://localhost:8080/",
          "height": 279
        },
        "id": "d1_FunyVuLMM",
        "outputId": "b001ebcc-5acb-4919-8eb6-c9d3eeae456e"
      },
      "source": [
        "# Plot next n days prediction\n",
        "plt.plot(svr_prediction, color = 'blue', marker = '.', linestyle = '-.', label='Linear Regression')\n",
        "plt.plot(lr_prediction, color = 'green', marker = 'x', linestyle = '--', label='Support Vector Regression')\n",
        "plt.xticks(np.arange(predict_for_days), np.arange(1, predict_for_days+1))\n",
        "minV = floor(min(min(lr_prediction), min(svr_prediction)))\n",
        "maxV = ceil(max(max(lr_prediction)+1, max(svr_prediction)+1))\n",
        "plt.yticks(np.arange(minV, maxV, floor((maxV-minV)/8)))\n",
        "plt.ylabel('Predicted Price')\n",
        "plt.xlabel('No. of days next')\n",
        "plt.grid()\n",
        "plt.legend()\n",
        "plt.show()\n",
        "plt.close()"
      ],
      "execution_count": 14,
      "outputs": [
        {
          "output_type": "display_data",
          "data": {
            "image/png": "[encoded data removed]",
            "text/plain": [
              "<Figure size 432x288 with 1 Axes>"
            ]
          },
          "metadata": {
            "tags": [],
            "needs_background": "light"
          }
        }
      ]
    }
  ]
}