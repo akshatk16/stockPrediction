{
  "nbformat": 4,
  "nbformat_minor": 0,
  "metadata": {
    "colab": {
      "name": "stockPrediction.ipynb",
      "provenance": [],
      "collapsed_sections": [],
      "authorship_tag": "ABX9TyNtf88gt9fFQviB8pIr6LUa",
      "include_colab_link": true
    },
    "kernelspec": {
      "name": "python3",
      "display_name": "Python 3"
    }
  },
  "cells": [
    {
      "cell_type": "markdown",
      "metadata": {
        "id": "view-in-github",
        "colab_type": "text"
      },
      "source": [
        "<a href=\"https://colab.research.google.com/github/akshatk16/stockPrediction/blob/main/stockPrediction.ipynb\" target=\"_parent\"><img src=\"https://colab.research.google.com/assets/colab-badge.svg\" alt=\"Open In Colab\"/></a>"
      ]
    },
    {
      "cell_type": "code",
      "metadata": {
        "id": "agGmcGatHR4E"
      },
      "source": [
        "# predict stock prices using ML\n",
        "\n",
        "# import dependencies\n",
        "import quandl\n",
        "import numpy as np\n",
        "from math import ceil, floor\n",
        "from sklearn.model_selection import train_test_split\n",
        "from sklearn.linear_model import LinearRegression\n",
        "from sklearn.svm import SVR\n",
        "import matplotlib.pyplot as plt\n"
      ],
      "execution_count": 1,
      "outputs": []
    },
    {
      "cell_type": "code",
      "metadata": {
        "id": "CCVT5wKKIXNx",
        "colab": {
          "base_uri": "https://localhost:8080/"
        },
        "outputId": "692a50fd-c96d-4684-e609-a070c14827a2"
      },
      "source": [
        "# get stock data\n",
        "quandl.ApiConfig.api_key = \"QxjBQqyAsBTrnpSkZqwc\"\n",
        "\n",
        "# The WIKIP API was discotinued in 2018 and hence further data is not available\n",
        "df = quandl.get(\"WIKI/AAPL\")\n",
        "print(df.head())"
      ],
      "execution_count": 2,
      "outputs": [
        {
          "output_type": "stream",
          "text": [
            "             Open   High    Low  ...  Adj. Low  Adj. Close  Adj. Volume\n",
            "Date                             ...                                   \n",
            "1980-12-12  28.75  28.87  28.75  ...  0.422706    0.422706  117258400.0\n",
            "1980-12-15  27.38  27.38  27.25  ...  0.400652    0.400652   43971200.0\n",
            "1980-12-16  25.37  25.37  25.25  ...  0.371246    0.371246   26432000.0\n",
            "1980-12-17  25.87  26.00  25.87  ...  0.380362    0.380362   21610400.0\n",
            "1980-12-18  26.63  26.75  26.63  ...  0.391536    0.391536   18362400.0\n",
            "\n",
            "[5 rows x 12 columns]\n"
          ],
          "name": "stdout"
        }
      ]
    },
    {
      "cell_type": "code",
      "metadata": {
        "colab": {
          "base_uri": "https://localhost:8080/"
        },
        "id": "pnWrvV-NkU2d",
        "outputId": "d343c70b-b002-4102-8eb9-7554ade57217"
      },
      "source": [
        "# get only 'adjusted close'\n",
        "df = df[['Adj. Close']]\n",
        "print(df.head())"
      ],
      "execution_count": 3,
      "outputs": [
        {
          "output_type": "stream",
          "text": [
            "            Adj. Close\n",
            "Date                  \n",
            "1980-12-12    0.422706\n",
            "1980-12-15    0.400652\n",
            "1980-12-16    0.371246\n",
            "1980-12-17    0.380362\n",
            "1980-12-18    0.391536\n"
          ],
          "name": "stdout"
        }
      ]
    },
    {
      "cell_type": "code",
      "metadata": {
        "colab": {
          "base_uri": "https://localhost:8080/"
        },
        "id": "IQbp2NbDlBmd",
        "outputId": "53526f85-da57-4d66-b849-358ddef8866a"
      },
      "source": [
        "# how many days in future to predict(n)\n",
        "predict_for_days = 15\n",
        "\n",
        "# New column for dependent variables shifted n units up\n",
        "df['Prediction'] = df[['Adj. Close']].shift(-predict_for_days)\n",
        "print(df.tail())"
      ],
      "execution_count": 4,
      "outputs": [
        {
          "output_type": "stream",
          "text": [
            "            Adj. Close  Prediction\n",
            "Date                              \n",
            "2018-03-21     171.270         NaN\n",
            "2018-03-22     168.845         NaN\n",
            "2018-03-23     164.940         NaN\n",
            "2018-03-26     172.770         NaN\n",
            "2018-03-27     168.340         NaN\n"
          ],
          "name": "stdout"
        }
      ]
    },
    {
      "cell_type": "code",
      "metadata": {
        "colab": {
          "base_uri": "https://localhost:8080/"
        },
        "id": "_ODkNNAum8Xf",
        "outputId": "5c89877c-7fcf-4779-fd21-8fe31ab943ae"
      },
      "source": [
        "# independent data set (X)\n",
        "X = np.array(df.drop(['Prediction'], 1))\n",
        "# Remove last n rows\n",
        "X = X[:-predict_for_days]\n",
        "print(X)"
      ],
      "execution_count": 5,
      "outputs": [
        {
          "output_type": "stream",
          "text": [
            "[[  0.42270592]\n",
            " [  0.40065169]\n",
            " [  0.37124607]\n",
            " ...\n",
            " [176.21      ]\n",
            " [176.82      ]\n",
            " [176.67      ]]\n"
          ],
          "name": "stdout"
        }
      ]
    },
    {
      "cell_type": "code",
      "metadata": {
        "colab": {
          "base_uri": "https://localhost:8080/"
        },
        "id": "Z2l7omTXnSAE",
        "outputId": "700d485a-68ad-46ef-9f05-034247090b84"
      },
      "source": [
        "# dependent data set (y)\n",
        "y = np.array(df['Prediction'])\n",
        "y = y[:-predict_for_days]\n",
        "print(y)"
      ],
      "execution_count": 6,
      "outputs": [
        {
          "output_type": "stream",
          "text": [
            "[  0.47416577   0.45402291   0.44476014 ... 164.94       172.77\n",
            " 168.34      ]\n"
          ],
          "name": "stdout"
        }
      ]
    },
    {
      "cell_type": "code",
      "metadata": {
        "id": "1GYw6ZGsoKYo"
      },
      "source": [
        "# Split into train/test\n",
        "x_train, x_test, y_train, y_test = train_test_split(X, y, test_size=0.2)"
      ],
      "execution_count": 7,
      "outputs": []
    },
    {
      "cell_type": "code",
      "metadata": {
        "colab": {
          "base_uri": "https://localhost:8080/"
        },
        "id": "XTLhxT-LoWsN",
        "outputId": "180d087c-c6ff-4104-a42b-66b82b56f1bf"
      },
      "source": [
        "# Train using Supprot Vector Regressor\n",
        "svr_rbf = SVR('rbf', gamma=0.1, C=1000)\n",
        "svr_rbf.fit(x_train, y_train)"
      ],
      "execution_count": 8,
      "outputs": [
        {
          "output_type": "execute_result",
          "data": {
            "text/plain": [
              "SVR(C=1000, cache_size=200, coef0=0.0, degree=3, epsilon=0.1, gamma=0.1,\n",
              "    kernel='rbf', max_iter=-1, shrinking=True, tol=0.001, verbose=False)"
            ]
          },
          "metadata": {
            "tags": []
          },
          "execution_count": 8
        }
      ]
    },
    {
      "cell_type": "code",
      "metadata": {
        "colab": {
          "base_uri": "https://localhost:8080/"
        },
        "id": "s7px0f1Vo6E3",
        "outputId": "b5cb2706-8037-4543-936d-b73b798cb5d3"
      },
      "source": [
        "# Test the svr model\n",
        "svm_confidence = svr_rbf.score(x_test, y_test)\n",
        "print(svm_confidence)"
      ],
      "execution_count": 9,
      "outputs": [
        {
          "output_type": "stream",
          "text": [
            "0.9963167793036015\n"
          ],
          "name": "stdout"
        }
      ]
    },
    {
      "cell_type": "code",
      "metadata": {
        "colab": {
          "base_uri": "https://localhost:8080/"
        },
        "id": "3jTYbW-bpLs5",
        "outputId": "9bdcaa48-071c-40c7-f7c0-3b469a650ca2"
      },
      "source": [
        "# Linear Regression model\n",
        "lr = LinearRegression()\n",
        "lr.fit(x_train, y_train)"
      ],
      "execution_count": 10,
      "outputs": [
        {
          "output_type": "execute_result",
          "data": {
            "text/plain": [
              "LinearRegression(copy_X=True, fit_intercept=True, n_jobs=None, normalize=False)"
            ]
          },
          "metadata": {
            "tags": []
          },
          "execution_count": 10
        }
      ]
    },
    {
      "cell_type": "code",
      "metadata": {
        "colab": {
          "base_uri": "https://localhost:8080/"
        },
        "id": "6ZO9JOsmpX4n",
        "outputId": "da24f48e-e6dd-45fa-99cd-c66ba8019bbd"
      },
      "source": [
        "# Test the lr model\n",
        "lr_confidence = lr.score(x_test, y_test)\n",
        "print(lr_confidence)"
      ],
      "execution_count": 11,
      "outputs": [
        {
          "output_type": "stream",
          "text": [
            "0.9955155203547357\n"
          ],
          "name": "stdout"
        }
      ]
    },
    {
      "cell_type": "code",
      "metadata": {
        "colab": {
          "base_uri": "https://localhost:8080/"
        },
        "id": "JEz1Os06plvF",
        "outputId": "36796e85-cc52-4a18-cc2e-3c3cba03ce87"
      },
      "source": [
        "# last n rows from original dataset\n",
        "x_predict = np.array(df.drop(['Prediction'], 1))[-predict_for_days:]\n",
        "print(x_predict)"
      ],
      "execution_count": 12,
      "outputs": [
        {
          "output_type": "stream",
          "text": [
            "[[175.03 ]\n",
            " [176.94 ]\n",
            " [179.98 ]\n",
            " [181.72 ]\n",
            " [179.97 ]\n",
            " [178.44 ]\n",
            " [178.65 ]\n",
            " [178.02 ]\n",
            " [175.3  ]\n",
            " [175.24 ]\n",
            " [171.27 ]\n",
            " [168.845]\n",
            " [164.94 ]\n",
            " [172.77 ]\n",
            " [168.34 ]]\n"
          ],
          "name": "stdout"
        }
      ]
    },
    {
      "cell_type": "code",
      "metadata": {
        "colab": {
          "base_uri": "https://localhost:8080/"
        },
        "id": "mYe3PAaOp8ls",
        "outputId": "984401c1-a0a5-44a8-973e-f2c2d2d27c49"
      },
      "source": [
        "# predict for next n days using svm\n",
        "svr_prediction = svr_rbf.predict(x_predict)\n",
        "print('Using SVM: ', svr_prediction)\n",
        "\n",
        "# predict for next n days using LR\n",
        "lr_prediction = lr.predict(x_predict)\n",
        "print('Using LR: ', lr_prediction)"
      ],
      "execution_count": 13,
      "outputs": [
        {
          "output_type": "stream",
          "text": [
            "Using SVM:  [171.80018528 167.82861243 165.4051522  121.23821478 165.57773725\n",
            " 172.78013317 173.59234964 170.64504305 171.67421488 171.72317596\n",
            " 174.89012071 172.69235599 164.56173007 173.31760949 173.74787168]\n",
            "Using LR:  [176.5596627  178.48548567 181.55066988 183.30508453 181.54058704\n",
            " 179.99791209 180.20965179 179.57443269 176.83189945 176.77140239\n",
            " 172.76851381 170.32342443 166.38607432 174.28094022 169.81424087]\n"
          ],
          "name": "stdout"
        }
      ]
    },
    {
      "cell_type": "code",
      "metadata": {
        "colab": {
          "base_uri": "https://localhost:8080/",
          "height": 279
        },
        "id": "d1_FunyVuLMM",
        "outputId": "5bf20f4a-1e53-4a57-f4dd-75e590894299"
      },
      "source": [
        "# Plot next n days prediction\n",
        "plt.plot(svr_prediction, color = 'blue', marker = '.', linestyle = '-.', label='Linear Regression')\n",
        "plt.plot(lr_prediction, color = 'green', marker = 'x', linestyle = '--', label='Support Vector Regression')\n",
        "plt.xticks(np.arange(predict_for_days), np.arange(1, predict_for_days+1))\n",
        "minV = floor(min(min(lr_prediction), min(svr_prediction)))\n",
        "maxV = ceil(max(max(lr_prediction)+1, max(svr_prediction)+1))\n",
        "plt.yticks(np.arange(minV, maxV, floor((maxV-minV)/8)))\n",
        "plt.ylabel('Predicted Price')\n",
        "plt.xlabel('No. of days next')\n",
        "plt.grid()\n",
        "plt.legend()\n",
        "plt.show()\n",
        "plt.close()"
      ],
      "execution_count": 14,
      "outputs": [
        {
          "output_type": "display_data",
          "data": {
            "image/png": "[encoded data removed]",
            "text/plain": [
              "<Figure size 432x288 with 1 Axes>"
            ]
          },
          "metadata": {
            "tags": [],
            "needs_background": "light"
          }
        }
      ]
    }
  ]
}