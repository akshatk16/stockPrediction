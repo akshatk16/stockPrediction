{
  "nbformat": 4,
  "nbformat_minor": 0,
  "metadata": {
    "colab": {
      "name": "stockPrediction.ipynb",
      "provenance": [],
      "collapsed_sections": [],
      "authorship_tag": "ABX9TyOk9Sx4vu3JY94bAASAdT4t",
      "include_colab_link": true
    },
    "kernelspec": {
      "name": "python3",
      "display_name": "Python 3"
    }
  },
  "cells": [
    {
      "cell_type": "markdown",
      "metadata": {
        "id": "view-in-github",
        "colab_type": "text"
      },
      "source": [
        "<a href=\"https://colab.research.google.com/github/akshatk16/stockPrediction/blob/main/stockPrediction.ipynb\" target=\"_parent\"><img src=\"https://colab.research.google.com/assets/colab-badge.svg\" alt=\"Open In Colab\"/></a>"
      ]
    },
    {
      "cell_type": "code",
      "metadata": {
        "id": "agGmcGatHR4E"
      },
      "source": [
        "# predict stock prices using ML\n",
        "\n",
        "# import dependencies\n",
        "import quandl\n",
        "import numpy as np\n",
        "from sklearn.model_selection import train_test_split\n",
        "from sklearn.linear_model import LinearRegression\n",
        "from sklearn.svm import SVR"
      ],
      "execution_count": null,
      "outputs": []
    },
    {
      "cell_type": "code",
      "metadata": {
        "id": "CCVT5wKKIXNx"
      },
      "source": [
        "# get stock data\n",
        "quandl.ApiConfig.api_key = \"F2p7bTsyUzsth72dKwdX\"\n",
        "df = quandl.get(\"WIKI/FB\")\n",
        "print(df.head())"
      ],
      "execution_count": null,
      "outputs": []
    }
  ]
}