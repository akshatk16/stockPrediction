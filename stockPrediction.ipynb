{
  "nbformat": 4,
  "nbformat_minor": 0,
  "metadata": {
    "colab": {
      "name": "stockPrediction.ipynb",
      "provenance": [],
      "collapsed_sections": [],
      "authorship_tag": "ABX9TyPgEKvllwfR5zcp6H9Ycb9d",
      "include_colab_link": true
    },
    "kernelspec": {
      "name": "python3",
      "display_name": "Python 3"
    }
  },
  "cells": [
    {
      "cell_type": "markdown",
      "metadata": {
        "id": "view-in-github",
        "colab_type": "text"
      },
      "source": [
        "<a href=\"https://colab.research.google.com/github/akshatk16/stockPrediction/blob/main/stockPrediction.ipynb\" target=\"_parent\"><img src=\"https://colab.research.google.com/assets/colab-badge.svg\" alt=\"Open In Colab\"/></a>"
      ]
    },
    {
      "cell_type": "code",
      "metadata": {
        "id": "agGmcGatHR4E"
      },
      "source": [
        "# predict stock prices using ML\n",
        "\n",
        "# import dependencies\n",
        "import quandl\n",
        "import numpy as np\n",
        "from sklearn.model_selection import train_test_split\n",
        "from sklearn.linear_model import LinearRegression\n",
        "from sklearn.svm import SVR"
      ],
      "execution_count": 74,
      "outputs": []
    },
    {
      "cell_type": "code",
      "metadata": {
        "id": "CCVT5wKKIXNx",
        "colab": {
          "base_uri": "https://localhost:8080/"
        },
        "outputId": "89a530e7-3355-4e00-dc18-353d812bcf38"
      },
      "source": [
        "# get stock data\n",
        "quandl.ApiConfig.api_key = \"F2p7bTsyUzsth72dKwdX\"\n",
        "df = quandl.get(\"WIKI/AMZN\")\n",
        "print(df.head())"
      ],
      "execution_count": 75,
      "outputs": [
        {
          "output_type": "stream",
          "text": [
            "             Open   High    Low  ...  Adj. Low  Adj. Close  Adj. Volume\n",
            "Date                             ...                                   \n",
            "1997-05-16  22.38  23.75  20.50  ...  1.708333    1.729167   14700000.0\n",
            "1997-05-19  20.50  21.25  19.50  ...  1.625000    1.708333    6106800.0\n",
            "1997-05-20  20.75  21.00  19.63  ...  1.635833    1.635833    5467200.0\n",
            "1997-05-21  19.25  19.75  16.50  ...  1.375000    1.427500   18853200.0\n",
            "1997-05-22  17.25  17.38  15.75  ...  1.312500    1.395833   11776800.0\n",
            "\n",
            "[5 rows x 12 columns]\n"
          ],
          "name": "stdout"
        }
      ]
    },
    {
      "cell_type": "code",
      "metadata": {
        "colab": {
          "base_uri": "https://localhost:8080/"
        },
        "id": "pnWrvV-NkU2d",
        "outputId": "ae0ba206-145f-4a0a-d2bc-7e0823365e93"
      },
      "source": [
        "# get only 'adjusted close'\n",
        "df = df[['Adj. Close']]\n",
        "print(df.head())"
      ],
      "execution_count": 76,
      "outputs": [
        {
          "output_type": "stream",
          "text": [
            "            Adj. Close\n",
            "Date                  \n",
            "1997-05-16    1.729167\n",
            "1997-05-19    1.708333\n",
            "1997-05-20    1.635833\n",
            "1997-05-21    1.427500\n",
            "1997-05-22    1.395833\n"
          ],
          "name": "stdout"
        }
      ]
    },
    {
      "cell_type": "code",
      "metadata": {
        "colab": {
          "base_uri": "https://localhost:8080/"
        },
        "id": "IQbp2NbDlBmd",
        "outputId": "50c430dc-0abe-4d59-9885-ce88f0a718eb"
      },
      "source": [
        "# how many days in future to predict(n)\n",
        "predict_for_days = 20\n",
        "\n",
        "# New column for dependent variables shifted n units up\n",
        "df['Prediction'] = df[['Adj. Close']].shift(-predict_for_days)\n",
        "print(df.tail())"
      ],
      "execution_count": 77,
      "outputs": [
        {
          "output_type": "stream",
          "text": [
            "            Adj. Close  Prediction\n",
            "Date                              \n",
            "2018-03-21     1581.86         NaN\n",
            "2018-03-22     1544.10         NaN\n",
            "2018-03-23     1495.56         NaN\n",
            "2018-03-26     1555.86         NaN\n",
            "2018-03-27     1497.05         NaN\n"
          ],
          "name": "stdout"
        }
      ]
    },
    {
      "cell_type": "code",
      "metadata": {
        "colab": {
          "base_uri": "https://localhost:8080/"
        },
        "id": "_ODkNNAum8Xf",
        "outputId": "6d2828c1-b8dc-4346-cb5f-6cb9c13c6504"
      },
      "source": [
        "# independent data set (X)\n",
        "X = np.array(df.drop(['Prediction'], 1))\n",
        "# Remove last n rows\n",
        "X = X[:-predict_for_days]\n",
        "print(X)"
      ],
      "execution_count": 78,
      "outputs": [
        {
          "output_type": "stream",
          "text": [
            "[[   1.72916667]\n",
            " [   1.70833333]\n",
            " [   1.63583333]\n",
            " ...\n",
            " [1500.        ]\n",
            " [1521.95      ]\n",
            " [1511.98      ]]\n"
          ],
          "name": "stdout"
        }
      ]
    },
    {
      "cell_type": "code",
      "metadata": {
        "colab": {
          "base_uri": "https://localhost:8080/"
        },
        "id": "Z2l7omTXnSAE",
        "outputId": "2a9345c6-1de2-43bf-ab8c-be617d8a0f3a"
      },
      "source": [
        "# dependent data set (y)\n",
        "y = np.array(df['Prediction'])\n",
        "y = y[:-predict_for_days]\n",
        "print(y)"
      ],
      "execution_count": 79,
      "outputs": [
        {
          "output_type": "stream",
          "text": [
            "[1.57333333e+00 1.50500000e+00 1.51083333e+00 ... 1.49556000e+03\n",
            " 1.55586000e+03 1.49705000e+03]\n"
          ],
          "name": "stdout"
        }
      ]
    },
    {
      "cell_type": "code",
      "metadata": {
        "id": "1GYw6ZGsoKYo"
      },
      "source": [
        "# Split into train/test\n",
        "x_train, x_test, y_train, y_test = train_test_split(X, y, test_size=0.2)"
      ],
      "execution_count": 80,
      "outputs": []
    },
    {
      "cell_type": "code",
      "metadata": {
        "colab": {
          "base_uri": "https://localhost:8080/"
        },
        "id": "XTLhxT-LoWsN",
        "outputId": "7b4c3d25-45a8-4a88-d94b-f445e300bfa7"
      },
      "source": [
        "# Train using SVM regressor\n",
        "svr_rbf = SVR('rbf', gamma=0.1, C=1000)\n",
        "svr_rbf.fit(x_train, y_train)"
      ],
      "execution_count": 81,
      "outputs": [
        {
          "output_type": "execute_result",
          "data": {
            "text/plain": [
              "SVR(C=1000, cache_size=200, coef0=0.0, degree=3, epsilon=0.1, gamma=0.1,\n",
              "    kernel='rbf', max_iter=-1, shrinking=True, tol=0.001, verbose=False)"
            ]
          },
          "metadata": {
            "tags": []
          },
          "execution_count": 81
        }
      ]
    },
    {
      "cell_type": "code",
      "metadata": {
        "colab": {
          "base_uri": "https://localhost:8080/"
        },
        "id": "s7px0f1Vo6E3",
        "outputId": "8b822ea0-6b01-4120-e394-efc4b882a9a5"
      },
      "source": [
        "# Test the svm model\n",
        "svm_confidence = svr_rbf.score(x_test, y_test)\n",
        "print(svm_confidence)"
      ],
      "execution_count": 82,
      "outputs": [
        {
          "output_type": "stream",
          "text": [
            "0.9541042222345923\n"
          ],
          "name": "stdout"
        }
      ]
    },
    {
      "cell_type": "code",
      "metadata": {
        "colab": {
          "base_uri": "https://localhost:8080/"
        },
        "id": "3jTYbW-bpLs5",
        "outputId": "508b5791-1a6e-4be3-8464-6fd762856523"
      },
      "source": [
        "# Linear Regression model\n",
        "lr = LinearRegression()\n",
        "lr.fit(x_train, y_train)"
      ],
      "execution_count": 83,
      "outputs": [
        {
          "output_type": "execute_result",
          "data": {
            "text/plain": [
              "LinearRegression(copy_X=True, fit_intercept=True, n_jobs=None, normalize=False)"
            ]
          },
          "metadata": {
            "tags": []
          },
          "execution_count": 83
        }
      ]
    },
    {
      "cell_type": "code",
      "metadata": {
        "colab": {
          "base_uri": "https://localhost:8080/"
        },
        "id": "6ZO9JOsmpX4n",
        "outputId": "b63413a4-d33a-4294-8a5f-4872d1c94d59"
      },
      "source": [
        "# Test the lr model\n",
        "lr_confidence = lr.score(x_test, y_test)\n",
        "print(lr_confidence)"
      ],
      "execution_count": 84,
      "outputs": [
        {
          "output_type": "stream",
          "text": [
            "0.99231442741043\n"
          ],
          "name": "stdout"
        }
      ]
    },
    {
      "cell_type": "code",
      "metadata": {
        "colab": {
          "base_uri": "https://localhost:8080/"
        },
        "id": "JEz1Os06plvF",
        "outputId": "cbfcb99e-cb36-4aac-8565-c7057be92e19"
      },
      "source": [
        "# last n rows from original dataset\n",
        "x_predict = np.array(df.drop(['Prediction'], 1))[-predict_for_days:]\n",
        "print(x_predict)"
      ],
      "execution_count": 85,
      "outputs": [
        {
          "output_type": "stream",
          "text": [
            "[[1512.45]\n",
            " [1493.45]\n",
            " [1500.25]\n",
            " [1523.61]\n",
            " [1537.64]\n",
            " [1545.  ]\n",
            " [1551.86]\n",
            " [1578.89]\n",
            " [1598.39]\n",
            " [1588.18]\n",
            " [1591.  ]\n",
            " [1582.32]\n",
            " [1571.68]\n",
            " [1544.93]\n",
            " [1586.51]\n",
            " [1581.86]\n",
            " [1544.1 ]\n",
            " [1495.56]\n",
            " [1555.86]\n",
            " [1497.05]]\n"
          ],
          "name": "stdout"
        }
      ]
    },
    {
      "cell_type": "code",
      "metadata": {
        "colab": {
          "base_uri": "https://localhost:8080/"
        },
        "id": "mYe3PAaOp8ls",
        "outputId": "0f1610a1-e2c9-4ba2-cfc3-3857552f08d1"
      },
      "source": [
        "# predict for next n days using svm\n",
        "svr_prediction = svr_rbf.predict(x_predict)\n",
        "print('Using SVM: ', svr_prediction)\n",
        "\n",
        "# predict for next n days using LR\n",
        "lr_prediction = lr.predict(x_predict)\n",
        "print('Using LR: ', lr_prediction)"
      ],
      "execution_count": 86,
      "outputs": [
        {
          "output_type": "stream",
          "text": [
            "Using SVM:  [1479.18852114  695.3711372  1490.40484545  684.01028737  684.00920112\n",
            "  684.00920112  684.00920112  684.00920112  684.00920112  684.00920112\n",
            "  684.00920112  684.00920112  684.00920112  684.00920112  684.00920112\n",
            "  684.00920112  684.00920112  797.02165866  684.00920112 1023.8828054 ]\n",
            "Using LR:  [1572.01370161 1552.23724787 1559.31513658 1583.62976602 1598.2331158\n",
            " 1605.89388946 1613.03423013 1641.16883774 1661.46572447 1650.83848275\n",
            " 1653.77372483 1644.73900807 1633.66419397 1605.82102884 1649.10023655\n",
            " 1644.26020971 1604.95711007 1554.4334751  1617.19769407 1555.98436542]\n"
          ],
          "name": "stdout"
        }
      ]
    }
  ]
}